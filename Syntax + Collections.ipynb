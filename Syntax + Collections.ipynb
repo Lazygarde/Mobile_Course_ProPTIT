{
  "cells": [
    {
      "cell_type": "markdown",
      "metadata": {
        "id": "KYz_LvzQ0X2m"
      },
      "source": [
        "# 1. `Syntax` cơ bản `Kotlin`"
      ]
    },
    {
      "cell_type": "markdown",
      "metadata": {
        "id": "42QO0FEPDBzL"
      },
      "source": [
        "## 1.1 Kiểu dữ liệu"
      ]
    },
    {
      "cell_type": "markdown",
      "metadata": {
        "id": "jrTlljzJEKSy"
      },
      "source": [
        "* `Int`, `Long`: Kiểu số nguyên\n",
        "* `Float`, `Double`: Kiểu số thực\n",
        "* `Char`: Kiểu kí tự\n",
        "* `Boolean`: Kiểu đúng sai \n",
        "* `String`: Kiểu xâu kí tự\n",
        "* `IntRange`: Kiểu 1 khoảng số nguyên"
      ]
    },
    {
      "cell_type": "code",
      "execution_count": null,
      "metadata": {
        "id": "sBy9Hz3yEHlV"
      },
      "outputs": [],
      "source": [
        "fun main() {\n",
        "    var a : Float = 9.5f\n",
        "    var b : Boolean = true\n",
        "    var c : String = \"Date\"\n",
        "    var d : IntRange = (1..2)\n",
        "}"
      ]
    },
    {
      "cell_type": "markdown",
      "metadata": {
        "id": "U7wo7DTf5Lpv"
      },
      "source": [
        "## 1.2 Biến"
      ]
    },
    {
      "cell_type": "markdown",
      "metadata": {
        "id": "xpPYhtgL99Tl"
      },
      "source": [
        "Biến trong `Kotlin` được khai báo bằng 1 trong 2 từ khoá `val` và `var`."
      ]
    },
    {
      "cell_type": "markdown",
      "metadata": {
        "id": "oOWo58CN6uyt"
      },
      "source": [
        " `val`:\n",
        "* Dùng để khai báo biến chỉ đọc và không thể thay đổi giá trị của biến này.\n",
        "* `val` khá giống với `const` trong `C++`, cả 2 đều sử dụng để khai báo biến không đổi. Nhưng đối với `val` thì không cần phải là 1 giá trị cố định sẵn trong `code`, tức là có thể định nghĩa trong `Runtime`. Còn đối với `const` thì phải là giá trị cố định sẵn trong `code`. Tóm lại `const` thuộc về `Compile time` còn `val` thuộc về `Runtime`. "
      ]
    },
    {
      "cell_type": "code",
      "execution_count": null,
      "metadata": {
        "id": "abjUZ1Su9Hwp"
      },
      "outputs": [],
      "source": [
        "fun main() {\n",
        "    val a = (1..6).random()\n",
        "    // const MOD = 1000000007\n",
        "}"
      ]
    },
    {
      "cell_type": "markdown",
      "metadata": {
        "id": "ERH0_8j4-Dxs"
      },
      "source": [
        "`var`: Dùng để khai báo biến có thể gán lại giá trị, hoạt động bình thường."
      ]
    },
    {
      "cell_type": "code",
      "execution_count": null,
      "metadata": {
        "id": "HCeaslO4-4ks"
      },
      "outputs": [],
      "source": [
        "fun main() {\n",
        "\tvar a = 26\n",
        "\tvar b = 10\n",
        "\tb = a + b\n",
        "\tprint(b) // 36\n",
        "}"
      ]
    },
    {
      "cell_type": "markdown",
      "metadata": {
        "id": "_SDPKh4V_MTr"
      },
      "source": [
        "Khi khai báo biến, cần gán giá trị của biến ngay. Nếu không thì phải định nghĩa kiểu dữ liệu cho biến."
      ]
    },
    {
      "cell_type": "code",
      "execution_count": null,
      "metadata": {
        "id": "XG_BtOV5A8bG"
      },
      "outputs": [],
      "source": [
        "fun main() {\n",
        "    val a = 4\n",
        "    val b : Int\n",
        "    var c = 11\n",
        "    var d : Int\n",
        "}"
      ]
    },
    {
      "cell_type": "markdown",
      "metadata": {
        "id": "s5xLrEfR_uro"
      },
      "source": [
        "## 1.3 Toán tử"
      ]
    },
    {
      "cell_type": "markdown",
      "metadata": {
        "id": "y4Ioaa_P_yU6"
      },
      "source": [
        "### 1.3.1 Toán tử cơ bản"
      ]
    },
    {
      "cell_type": "markdown",
      "metadata": {
        "id": "tJIUz_9S_2jr"
      },
      "source": [
        "* `+`\n",
        "* `-`\n",
        "* `*`\n",
        "* `/`\n",
        "* `=`"
      ]
    },
    {
      "cell_type": "markdown",
      "metadata": {
        "id": "CR3xq3aG__HA"
      },
      "source": [
        "### 1.3.2 Toán tử logic"
      ]
    },
    {
      "cell_type": "markdown",
      "metadata": {
        "id": "nT82ga3QAGbM"
      },
      "source": [
        "* `>`\n",
        "* `<`\n",
        "* `>=`\n",
        "* `<=`\n",
        "* `==`\n",
        "* `!=`"
      ]
    },
    {
      "cell_type": "markdown",
      "metadata": {
        "id": "9U1z1Cch5zEE"
      },
      "source": [
        "## 1.4 Hàm"
      ]
    },
    {
      "cell_type": "markdown",
      "metadata": {
        "id": "Xz3K2G2IHZie"
      },
      "source": [
        "Hàm trong `Kotlin` được khai báo với cú pháp:\n",
        "\n",
        "```\n",
        "fun <tên hàm> (<các đối số truyền vào>) : <kiểu dữ liệu trả về> {\n",
        "    //code\n",
        "}\n",
        "```\n",
        "\n"
      ]
    },
    {
      "cell_type": "code",
      "execution_count": null,
      "metadata": {
        "id": "tYQFpvq8IWvW"
      },
      "outputs": [],
      "source": [
        "fun main() {\n",
        "    print(\"Hello world\")\n",
        "}"
      ]
    },
    {
      "cell_type": "code",
      "execution_count": null,
      "metadata": {
        "id": "u9pklALVIdMq"
      },
      "outputs": [],
      "source": [
        "fun sum(a : Int, b : Int) : Int {\n",
        "    return a + b\n",
        "} \n",
        "fun main() {\n",
        "    var a = 4\n",
        "    var b = 26\n",
        "    print(sum(a, b)) // 30\n",
        "}"
      ]
    },
    {
      "cell_type": "code",
      "execution_count": null,
      "metadata": {
        "id": "UIPNbH8kKBs3"
      },
      "outputs": [],
      "source": [
        "fun sum (a: Int, b: Int) : Int = a + b \n",
        "fun main() {\n",
        "    var a = 4\n",
        "    var b = 26\n",
        "    print(sum(a, b)) // 30\n",
        "}"
      ]
    },
    {
      "cell_type": "markdown",
      "metadata": {
        "id": "rZq3wXyeQdRE"
      },
      "source": [
        "## 1.5 Câu lệnh rẽ nhánh"
      ]
    },
    {
      "cell_type": "markdown",
      "metadata": {
        "id": "T5dzTvtmSc3o"
      },
      "source": [
        "### 1.5.1 `if` `else`"
      ]
    },
    {
      "cell_type": "markdown",
      "metadata": {
        "id": "wYvCQbrvRCpL"
      },
      "source": [
        "* Câu lệnh rẽ nhánh `if` `else` được sử dụng tương tự như trong `C++` và `Java`."
      ]
    },
    {
      "cell_type": "code",
      "execution_count": null,
      "metadata": {
        "id": "xb3gSchyRTER"
      },
      "outputs": [],
      "source": [
        "fun main() {\n",
        "    var a : Int = 26\n",
        "    if (a == 0) print(\"So 0\")\n",
        "    else if (a > 0) print(\"So nguyen duong\")\n",
        "    else print(\"So nguyen am\")\n",
        "}"
      ]
    },
    {
      "cell_type": "markdown",
      "metadata": {
        "id": "Cn9-3EmxRoRP"
      },
      "source": [
        "* `if else` trong `Kotlin` còn được sử dụng để trả về một giá trị như toán tử ba ngôi trong `C++`."
      ]
    },
    {
      "cell_type": "code",
      "execution_count": null,
      "metadata": {
        "id": "AYaVRK7eR23O"
      },
      "outputs": [],
      "source": [
        "fun main() {\n",
        "    var a = 10\n",
        "    var b = 11\n",
        "    var Bigger = if(a > b) a else b\n",
        "    print(Bigger) // 11\n",
        "}"
      ]
    },
    {
      "cell_type": "markdown",
      "metadata": {
        "id": "25rwpffySly1"
      },
      "source": [
        "### 1.5.2 `when`"
      ]
    },
    {
      "cell_type": "markdown",
      "metadata": {
        "id": "h1BbLnv3SoOq"
      },
      "source": [
        "* `when` trong `Kotlin` được sử dụng tương tự như `switch case` trong `C++`."
      ]
    },
    {
      "cell_type": "code",
      "execution_count": null,
      "metadata": {
        "id": "DI9eOy5gUbcu"
      },
      "outputs": [],
      "source": [
        "fun main() {\n",
        "    var SoCanh = 4\n",
        "    when (SoCanh) {\n",
        "        3 -> print(\"Tam giac\")\n",
        "        4 -> print(\"Tu giac\")\n",
        "        5 -> print(\"Ngu giac\")\n",
        "        else -> print(\"So qua lon\")\n",
        "    }\n",
        "    // Tu giac\n",
        "}"
      ]
    },
    {
      "cell_type": "markdown",
      "metadata": {
        "id": "sldH1JnGUr-c"
      },
      "source": [
        "* `when` cũng có thể sử dụng để trả về giá trị. Nhưng khi ấy trong biểu thức `when` cần có `else` để tránh gán `null` cho biến."
      ]
    },
    {
      "cell_type": "code",
      "execution_count": null,
      "metadata": {
        "id": "_poWh2fqUwDN"
      },
      "outputs": [],
      "source": [
        "fun main() {\n",
        "    var a = (1..6).random()\n",
        "    var b = when (a) {\n",
        "        1 -> 1\n",
        "        2 -> 2\n",
        "        3 -> 3\n",
        "        4 -> 4\n",
        "        5 -> 5\n",
        "        else -> 6\n",
        "    }\n",
        "    print(b)\n",
        "}"
      ]
    },
    {
      "cell_type": "markdown",
      "metadata": {
        "id": "eVW-eZrzWoTG"
      },
      "source": [
        "## 1.6 Vòng lặp"
      ]
    },
    {
      "cell_type": "markdown",
      "metadata": {
        "id": "109mSkT7PmNT"
      },
      "source": [
        "### 1.6.1 Vòng lặp `repeat`"
      ]
    },
    {
      "cell_type": "markdown",
      "metadata": {
        "id": "SzjKdXvfPrZR"
      },
      "source": [
        "* Vòng lặp `repeat` sẽ thực hiện khối lệnh với số lần là số ta truyền vào.\n",
        "\n",
        "* Cú pháp:\n",
        "\n",
        "\n",
        "```\n",
        "repeat (<so lan lap>) {\n",
        "    // code\n",
        "}\n",
        "```\n",
        "\n"
      ]
    },
    {
      "cell_type": "code",
      "execution_count": null,
      "metadata": {
        "id": "EKbCFd6yQozh"
      },
      "outputs": [],
      "source": [
        "fun main() {\n",
        "    val n = 4\n",
        "    repeat (n) {\n",
        "        repeat (n) {\n",
        "            print(\"*\")\n",
        "        }\n",
        "        println()\n",
        "    }\n",
        "}"
      ]
    },
    {
      "cell_type": "markdown",
      "metadata": {
        "id": "BDuzrA-GRvYu"
      },
      "source": [
        "* `repeat` có thể truyền vào biến lặp như sau."
      ]
    },
    {
      "cell_type": "code",
      "execution_count": null,
      "metadata": {
        "id": "4bc0GdJ7SJYs"
      },
      "outputs": [],
      "source": [
        "fun main() {\n",
        "    val n = 4\n",
        "    repeat (n) { i->\n",
        "        repeat (n) { j->\n",
        "            if (i == 0 || i == n - 1 || j == 0 || j == n - 1) {\n",
        "                print(\"*\")\n",
        "            }\n",
        "            else {\n",
        "                print(\" \")\n",
        "            }\n",
        "        }\n",
        "        println()\n",
        "    }\n",
        "}"
      ]
    },
    {
      "cell_type": "markdown",
      "metadata": {
        "id": "jCsS0Vk5SjE0"
      },
      "source": [
        "### 1.6.2 Vòng lặp `while`"
      ]
    },
    {
      "cell_type": "markdown",
      "metadata": {
        "id": "kHkVBlIUSmlZ"
      },
      "source": [
        "Vòng lặp `while` được sử dụng giống như `C++` và `Java`."
      ]
    },
    {
      "cell_type": "code",
      "execution_count": null,
      "metadata": {
        "id": "Gi_qUUnJVgti"
      },
      "outputs": [],
      "source": [
        "fun main() {\n",
        "    var a = 26\n",
        "    var ans = 0\n",
        "    while (a > 0) {\n",
        "        ans = ans * 10 + a % 10\n",
        "        a /= 10\n",
        "    }\n",
        "    print(ans) // 62\n",
        "}"
      ]
    },
    {
      "cell_type": "markdown",
      "metadata": {
        "id": "I3849itSVqg4"
      },
      "source": [
        "### 1.6.3 Vòng lặp `for`"
      ]
    },
    {
      "cell_type": "markdown",
      "metadata": {
        "id": "NfVC8H0lVuYt"
      },
      "source": [
        "* Vòng lặp `for` được sử dụng để lặp lại các mục trong một danh sách."
      ]
    },
    {
      "cell_type": "code",
      "execution_count": null,
      "metadata": {
        "id": "FsqM7qaKY9MD"
      },
      "outputs": [],
      "source": [
        "fun main() {\n",
        "    val a = listOf(1, 2, 3)\n",
        "    for (i in a) {\n",
        "        print(\"$i \")\n",
        "    }\n",
        "    // 1 2 3 \n",
        "}"
      ]
    },
    {
      "cell_type": "markdown",
      "metadata": {
        "id": "NtTucHNAZcvH"
      },
      "source": [
        "* Vòng lặp `for` còn được sử dụng với bước nhảy `step`."
      ]
    },
    {
      "cell_type": "code",
      "execution_count": null,
      "metadata": {
        "id": "H_VnjTvoZp_3"
      },
      "outputs": [],
      "source": [
        "fun main() {\n",
        "    for (i in 0..10 step 2) {\n",
        "        print(\"$i \")\n",
        "    }\n",
        "    // 0 2 4 6 8 10 \n",
        "}"
      ]
    },
    {
      "cell_type": "code",
      "execution_count": null,
      "metadata": {
        "id": "Vsy184XDaFiF"
      },
      "outputs": [],
      "source": [
        "fun main() {\n",
        "    val a = listOf(1, 2, 3, 4, 5, 6)\n",
        "    for (i in a.indices step 2) {\n",
        "        print(\"${a[i]} \")\n",
        "    }\n",
        "    // 1 3 5 \n",
        "}"
      ]
    },
    {
      "cell_type": "markdown",
      "metadata": {
        "id": "xcoBSK1yaQKG"
      },
      "source": [
        "* Vòng lặp `for` có thể sử dụng `until` để duyệt trên 1 nửa khoảng tăng dần và `downTo` để duyệt trên 1 đoạn giảm dần."
      ]
    },
    {
      "cell_type": "code",
      "execution_count": null,
      "metadata": {
        "id": "TK5d7H0g9Uhk"
      },
      "outputs": [],
      "source": [
        "fun main() {\n",
        "    for(i in 1 until 5){\n",
        "        print(\"$i \")\n",
        "    }\n",
        "    // 1 2 3 4 \n",
        "}"
      ]
    },
    {
      "cell_type": "code",
      "execution_count": null,
      "metadata": {
        "id": "As8tLhz1Znay"
      },
      "outputs": [],
      "source": [
        "fun main() {\n",
        "    for (i in 10 downTo 0 step 2) {\n",
        "        print(\"$i \")\n",
        "    }\n",
        "    // 10 8 6 4 2 0 \n",
        "}"
      ]
    },
    {
      "cell_type": "markdown",
      "metadata": {
        "id": "FXCfKGx0anyr"
      },
      "source": [
        "### 1.6.4 `break` và `continue`"
      ]
    },
    {
      "cell_type": "markdown",
      "metadata": {
        "id": "bKiVkOLGasr4"
      },
      "source": [
        "* `break` và `continue` được sử dụng giống như trong `C++`, `Java`."
      ]
    },
    {
      "cell_type": "code",
      "execution_count": null,
      "metadata": {
        "id": "FDYLeorscosN"
      },
      "outputs": [],
      "source": [
        "fun main() {\n",
        "    var ok = true\n",
        "    var n = 2610\n",
        "    for (i in 2..n) {\n",
        "        if (n % i == 0){\n",
        "            ok = false\n",
        "            break\n",
        "        }\n",
        "    }\n",
        "    print(ok)\n",
        "}"
      ]
    },
    {
      "cell_type": "markdown",
      "metadata": {
        "id": "bL0JcmsUcpCr"
      },
      "source": [
        "* Có thể chỉ định để `break` hoặc `continue` vòng lặp nào bằng các gán nhãn các vòng lặp."
      ]
    },
    {
      "cell_type": "code",
      "execution_count": null,
      "metadata": {
        "id": "AM8jlXZwct3I"
      },
      "outputs": [],
      "source": [
        "fun main() {\n",
        "    var n = 7\n",
        "    val a = listOf(1, 2, 3, 4, 5)\n",
        "    val b = listOf(2, 3, 7, 10)\n",
        "    loop1@ for (i in a) {\n",
        "        loop2@ for (j in b) {\n",
        "            if (i + j == n) {\n",
        "                print(\"${i} ${j}\")\n",
        "                break@loop1\n",
        "            }\n",
        "        }\n",
        "    }\n",
        "}"
      ]
    },
    {
      "cell_type": "markdown",
      "metadata": {
        "id": "5nQ6c1va01XY"
      },
      "source": [
        "# 2. `Collections`"
      ]
    },
    {
      "cell_type": "markdown",
      "metadata": {
        "id": "SNP3Bdsuf9QI"
      },
      "source": [
        "* `collection` là tập hợp các đối tượng có cùng kiểu dữ liệu.\n",
        "\n",
        "* Các `collection` trong `Kotlin` bao gồm: `List`, `Set`, `Map`.\n",
        "\n",
        "* Các collection trong Kotlin được chia làm 2 loại: `mutable` (có thể thay đổi) và `immutable` (không thể thay đổi).\n"
      ]
    },
    {
      "cell_type": "markdown",
      "metadata": {
        "id": "PqcadA8vhzaZ"
      },
      "source": [
        "## 2.1 `List` trong `Kotlin`"
      ]
    },
    {
      "cell_type": "markdown",
      "metadata": {
        "id": "iQ_c1nFhiQgx"
      },
      "source": [
        "### 2.1.1 `List`"
      ]
    },
    {
      "cell_type": "markdown",
      "metadata": {
        "id": "7Sk5Qv8_iTgS"
      },
      "source": [
        "* `List` (`immutable`) được khai báo như sau:"
      ]
    },
    {
      "cell_type": "code",
      "execution_count": null,
      "metadata": {
        "id": "WZzzdYBgjt1W"
      },
      "outputs": [],
      "source": [
        "fun main() {\n",
        "    val a = listOf(1, 2, 3, 4, 5)\n",
        "}"
      ]
    },
    {
      "cell_type": "markdown",
      "metadata": {
        "id": "CQoRHmizh6vN"
      },
      "source": [
        "* Vì `List` là `immutable` nên không thể thêm, xoá hoặc sửa các phần tử trong `List`. Nhưng nếu khai báo `List` là `var` thì có thể gán lại `List` mới."
      ]
    },
    {
      "cell_type": "code",
      "execution_count": null,
      "metadata": {
        "id": "vIBTxTD9kTYP"
      },
      "outputs": [],
      "source": [
        "fun main() {\n",
        "    var a = listOf(1, 2, 3, 4, 5)\n",
        "    a = listOf(1, 2, 3)\n",
        "}"
      ]
    },
    {
      "cell_type": "markdown",
      "metadata": {
        "id": "ECEKgajBkdpK"
      },
      "source": [
        "### 2.1.2 `mutableList`"
      ]
    },
    {
      "cell_type": "markdown",
      "metadata": {
        "id": "iDycDavWkl8Z"
      },
      "source": [
        "* `mutableList` có thể thêm, xoá hoặc sửa các phần tử trong nó."
      ]
    },
    {
      "cell_type": "code",
      "execution_count": null,
      "metadata": {
        "id": "N8aol7lak88l"
      },
      "outputs": [],
      "source": [
        "fun main() {\n",
        "    val a = mutableListOf(0, 1, 3, 0, 5)\n",
        "    a.add(6)          // [0, 1, 3, 0, 5, 6]\n",
        "    a[1] = 2          // [0, 2, 3, 0, 5, 6]\n",
        "    a.remove(0)       // [2, 3, 0, 5, 6]\n",
        "    a.removeAt(0)     // [3, 0, 5, 6]\n",
        "}"
      ]
    },
    {
      "cell_type": "markdown",
      "metadata": {
        "id": "GxW6DOG1l9Zp"
      },
      "source": [
        "* Khi khai báo `mutableList` là `val` thì vẫn có thể chỉnh sửa các phần tử trong nó. Nhưng không thể gán lại nó bằng 1 `mutableList` khác. Muốn gán lại thì phải khai báo là `var`."
      ]
    },
    {
      "cell_type": "code",
      "execution_count": null,
      "metadata": {
        "id": "MLfzEAGImSXv"
      },
      "outputs": [],
      "source": [
        "fun main() {\n",
        "    var a = mutableListOf(0, 1, 3, 0, 5)\n",
        "    a.add(6)          // [0, 1, 3, 0, 5, 6]\n",
        "    a[1] = 2          // [0, 2, 3, 0, 5, 6]\n",
        "    a.remove(0)       // [2, 3, 0, 5, 6]\n",
        "    a.removeAt(0)     // [3, 0, 5, 6]\n",
        "    a = mutableListOf(1, 2, 3)\n",
        "}"
      ]
    },
    {
      "cell_type": "markdown",
      "metadata": {
        "id": "iBZoKrnTmi07"
      },
      "source": [
        "## 2.2 `Set` trong `Kotlin`"
      ]
    },
    {
      "cell_type": "markdown",
      "metadata": {
        "id": "JhTSK6GVmp_J"
      },
      "source": [
        "### 2.2.1 `Set`"
      ]
    },
    {
      "cell_type": "markdown",
      "metadata": {
        "id": "LMy-UMcynQlP"
      },
      "source": [
        "* `Set` chỉ lưu lại các phần tử khác nhau theo thứ tự được thêm vào `Set`."
      ]
    },
    {
      "cell_type": "code",
      "execution_count": null,
      "metadata": {
        "id": "0jZAVGs1nZeF"
      },
      "outputs": [],
      "source": [
        "fun main() {\n",
        "    val a = setOf(1, 3, 2, 3) // [1, 3, 2]\n",
        "}"
      ]
    },
    {
      "cell_type": "markdown",
      "metadata": {
        "id": "5CCjDCjrnb58"
      },
      "source": [
        "* Tương tự như `List`, `Set` không thể chỉnh sửa các phần tử và muốn gán lại cho giá trị thì khai báo `Set` dưới dạng `var`."
      ]
    },
    {
      "cell_type": "markdown",
      "metadata": {
        "id": "QbDBaoofntTs"
      },
      "source": [
        "### 2.2.2 `mutableSet`"
      ]
    },
    {
      "cell_type": "markdown",
      "metadata": {
        "id": "tmeZKTQznzeF"
      },
      "source": [
        "* `mutableSet` có thể chỉnh sửa các giá trị trong nó. Khi thêm 1 giá trị mới thì nó sẽ kiểm tra xem đã xuất hiện phần tử đó chưa, nếu chưa thì phần tử đó sẽ được thêm vào `mutableSet`."
      ]
    },
    {
      "cell_type": "code",
      "execution_count": null,
      "metadata": {
        "id": "2SkqDQx8ofCv"
      },
      "outputs": [],
      "source": [
        "fun main() {\n",
        "    val a = mutableSetOf(1, 3, 2, 3) // [1, 3, 2]\n",
        "    a.add(1)                         // [1, 3, 2]\n",
        "    a.add(4)                         // [1, 3, 2, 4]\n",
        "    a.remove(1)                      // [3, 2, 4]\n",
        "}"
      ]
    },
    {
      "cell_type": "markdown",
      "metadata": {
        "id": "SFXf4OQqog47"
      },
      "source": [
        "* `mutableSet` không sử dụng `index` nên không có `removeAt()`, thay vào đó là `remove()` trực tiếp giá trị muốn xoá."
      ]
    },
    {
      "cell_type": "markdown",
      "metadata": {
        "id": "U3I0R7Peo2up"
      },
      "source": [
        "## 2.3 `Map` trong `Kotlin`"
      ]
    },
    {
      "cell_type": "markdown",
      "metadata": {
        "id": "Num4gsCrpDHb"
      },
      "source": [
        "### 2.3.1 `Map`"
      ]
    },
    {
      "cell_type": "markdown",
      "metadata": {
        "id": "WzDskVvppGmG"
      },
      "source": [
        "* `Map` sẽ lưu trữ các phần tử dưới dạng `keys` và `values` theo thứ tự keys khác nhau được đưa vào `Map`. Nếu có nhiều `keys` giống nhau thì sẽ nhận giá trị của `values` cuối cùng."
      ]
    },
    {
      "cell_type": "code",
      "execution_count": null,
      "metadata": {
        "id": "qiA6Zjtvr3Ng"
      },
      "outputs": [],
      "source": [
        "fun main() {\n",
        "    val a = mapOf( \"Sunday\"   to 1,\n",
        "                  \"Monday\"    to 2,\n",
        "                  \"Tuesday\"   to 3,\n",
        "                  \"Wednesday\" to 4,\n",
        "                  \"Thursday\"  to 5,\n",
        "                  \"Friday\"    to 6,\n",
        "                  \"Saturday\"  to 7,\n",
        "                  \"Sunday\"    to 8)\n",
        "    // {Sunday=8, Monday=2, Tuesday=3, Wednesday=4, Thursday=5, Friday=6, Saturday=7}\n",
        "}"
      ]
    },
    {
      "cell_type": "markdown",
      "metadata": {
        "id": "VT8PbLINtW50"
      },
      "source": [
        "* Nếu gọi riêng `keys` hoặc `values` của `Map` thì sẽ trả về một `List`."
      ]
    },
    {
      "cell_type": "code",
      "execution_count": null,
      "metadata": {
        "id": "zoQiKZO2tXG8"
      },
      "outputs": [],
      "source": [
        "fun main() {\n",
        "    val a = mapOf( \"Sunday\"   to 1,\n",
        "                  \"Monday\"    to 2,\n",
        "                  \"Tuesday\"   to 3,\n",
        "                  \"Wednesday\" to 4,\n",
        "                  \"Thursday\"  to 5,\n",
        "                  \"Friday\"    to 6,\n",
        "                  \"Saturday\"  to 7,\n",
        "                  \"Sunday\"    to 8)\n",
        "   \tprintln(a.keys)   // [Sunday, Monday, Tuesday, Wednesday, Thursday, Friday, Saturday]\n",
        "    println(a.values) // [8, 2, 3, 4, 5, 6, 7]\n",
        "}"
      ]
    },
    {
      "cell_type": "markdown",
      "metadata": {
        "id": "I9FQUi5rtmH4"
      },
      "source": [
        "### 2.3.2 `mutableMap`"
      ]
    },
    {
      "cell_type": "markdown",
      "metadata": {
        "id": "g7wjWIMttqJ8"
      },
      "source": [
        "* `mutableMap` có thể chỉnh sửa các phần tử trong nó. Dùng `put()` để thêm các phần tử mới, `putAll()` để thêm tất cả phần tử của 1 `Map` hoặc 1 `mutableMap`."
      ]
    },
    {
      "cell_type": "code",
      "execution_count": null,
      "metadata": {
        "id": "WSZZ8J9Vwkum"
      },
      "outputs": [],
      "source": [
        "fun main() {\n",
        "    val a = mutableMapOf(1 to 2, 3 to 4)\n",
        "    a.put(5, 6)      // {1=2, 3=4, 5=6}\n",
        "    val b = mapOf(7 to 8, 9 to 1)\n",
        "    a.putAll(b)      // {1=2, 3=4, 5=6, 7=8, 9=1}\n",
        "    a.put(9,10)      // {1=2, 3=4, 5=6, 7=8, 9=10}\n",
        "}"
      ]
    },
    {
      "cell_type": "markdown",
      "metadata": {
        "id": "nyao4hcbxyfR"
      },
      "source": [
        "* Có thể sử dụng `remove(<key>)` hoặc `keys.remove(<key>)` để loại bỏ 1 `keys` nào đó khỏi `mutableMap`. Còn sử dụng `values.remove(<value>)` sẽ loại bỏ phần tử đầu tiên có `values` là `value`."
      ]
    },
    {
      "cell_type": "code",
      "execution_count": null,
      "metadata": {
        "id": "6bZqN6ryyk_u"
      },
      "outputs": [],
      "source": [
        "fun main() {\n",
        "    val a = mutableMapOf(1 to 2, 3 to 4, 5 to 6, 1 to 4) // {1=4, 3=4, 5=6}\n",
        "    a.remove(5)                                          // {1=4, 3=4}\n",
        "    a.values.remove(4)                                   // {3=4}\n",
        "}"
      ]
    },
    {
      "cell_type": "markdown",
      "metadata": {
        "id": "_vJ9XZqy6asp"
      },
      "source": [
        "## 2.4 Một số hàm với `Collection`"
      ]
    },
    {
      "cell_type": "markdown",
      "metadata": {
        "id": "EZgqwbpfMcgO"
      },
      "source": [
        "### 2.4.1 `sort`"
      ]
    },
    {
      "cell_type": "markdown",
      "metadata": {
        "id": "oHn07ZYbMgpN"
      },
      "source": [
        "`sort` dùng để sắp xếp các phần tử trong `collection` áp dụng với cả `mutable` và `immutable`"
      ]
    },
    {
      "cell_type": "markdown",
      "metadata": {
        "id": "plh6ZyrgNcXH"
      },
      "source": [
        "* Đối với `List` và `Set` ta sử dụng `sorted()` để trả về."
      ]
    },
    {
      "cell_type": "code",
      "execution_count": null,
      "metadata": {
        "id": "yW3NKpyDNkz0"
      },
      "outputs": [],
      "source": [
        "fun main() {\n",
        "    val a = listOf(4, 3, 1, 2, 3, 4)\n",
        "    val b = a.sorted() // [1, 2, 3, 3, 4, 4]\n",
        "}"
      ]
    },
    {
      "cell_type": "code",
      "execution_count": null,
      "metadata": {
        "id": "_zfMY_awNmiB"
      },
      "outputs": [],
      "source": [
        "fun main() {\n",
        "    val a = setOf(4, 3, 1, 2, 3, 4)\n",
        "    val b = a.sorted() // [1, 2, 3, 4]\n",
        "}"
      ]
    },
    {
      "cell_type": "markdown",
      "metadata": {
        "id": "JcqhzHohN9vS"
      },
      "source": [
        "* Đối với `Map` ta sử dụng `toSortedMap()` để trả về."
      ]
    },
    {
      "cell_type": "code",
      "execution_count": null,
      "metadata": {
        "id": "D6patWFrOXAY"
      },
      "outputs": [],
      "source": [
        "fun main() {\n",
        "    val a = mapOf(3 to 4, 1 to 2, 5 to 6)\n",
        "    val b = a.toSortedMap() // {1=2, 3=4, 5=6}\n",
        "}"
      ]
    },
    {
      "cell_type": "markdown",
      "metadata": {
        "id": "alAa8iKhO97R"
      },
      "source": [
        "* Ta có thể sử dụng `sorted` với `compare` tự định nghĩa, khi ấy biến `compare` mặc định là `it`."
      ]
    },
    {
      "cell_type": "code",
      "execution_count": null,
      "metadata": {
        "id": "13luY4HGQG4i"
      },
      "outputs": [],
      "source": [
        "fun main() {\n",
        "    val a = listOf(1, 2, 3, 4)\n",
        "    val b = a.sortedWith(compareBy({-it})) // [4, 3, 2, 1]\n",
        "}"
      ]
    },
    {
      "cell_type": "markdown",
      "metadata": {
        "id": "EenFSg4xQKmI"
      },
      "source": [
        "* `Comparator` tự định nghĩa với `when`."
      ]
    },
    {
      "cell_type": "code",
      "execution_count": null,
      "metadata": {
        "id": "hUNCIs_gUi92"
      },
      "outputs": [],
      "source": [
        "fun main() {\n",
        "    val a = listOf(\"26\", \"10\", \"11\", \"4\")\n",
        "    val b = a.sortedWith(Comparator <String> {s1, s2 ->\n",
        "        when {\n",
        "            s1.length > s2.length -> 1\n",
        "            s1.length == s2.length && s1 > s2 -> 1\n",
        "            else -> -1\n",
        "        }\n",
        "    })\n",
        "    // [4, 10, 11, 26]\n",
        "}"
      ]
    },
    {
      "cell_type": "markdown",
      "metadata": {
        "id": "DRGawwrPWyXX"
      },
      "source": [
        "### 2.4.2 `forEach`"
      ]
    },
    {
      "cell_type": "markdown",
      "metadata": {
        "id": "TqelrPuuW5Ay"
      },
      "source": [
        "Ta có thể duyệt qua các `Collection` bằng `forEach` với biến lặp mặc định là `it`."
      ]
    },
    {
      "cell_type": "code",
      "execution_count": null,
      "metadata": {
        "id": "XCKCd4VxXgCM"
      },
      "outputs": [],
      "source": [
        "fun main() {\n",
        "    val a = listOf(1, 2, 3, 4)\n",
        "    a.forEach{\n",
        "        println(it)\n",
        "    }\n",
        "}"
      ]
    },
    {
      "cell_type": "markdown",
      "metadata": {
        "id": "3Eu39glJX5IF"
      },
      "source": [
        "### 2.4.3 `random`"
      ]
    },
    {
      "cell_type": "markdown",
      "metadata": {
        "id": "EIg_o-fcX8hH"
      },
      "source": [
        "* Hàm `random()` trả về phần tử bất kì trong `Collection`."
      ]
    },
    {
      "cell_type": "code",
      "execution_count": null,
      "metadata": {
        "id": "05NNb1PQYEHS"
      },
      "outputs": [],
      "source": [
        "fun main() {\n",
        "    val a = listOf(1, 2, 3, 4)\n",
        "    print(a.random())\n",
        "}"
      ]
    },
    {
      "cell_type": "markdown",
      "metadata": {
        "id": "hZR9j_gsYOIK"
      },
      "source": [
        "* Đối với `Map`, ta phải chuyển về `List` trước khi `random`."
      ]
    },
    {
      "cell_type": "code",
      "execution_count": null,
      "metadata": {
        "id": "CDT-k10EYUYX"
      },
      "outputs": [],
      "source": [
        "fun main() {\n",
        "    val a = mapOf(1 to 2, 3 to 4, 5 to 6)\n",
        "    print(a.toList().random())\n",
        "}"
      ]
    },
    {
      "cell_type": "markdown",
      "metadata": {
        "id": "-R7vtTsKaqTi"
      },
      "source": [
        "### 2.4.4 `intersect` và `union`"
      ]
    },
    {
      "cell_type": "markdown",
      "metadata": {
        "id": "z50e7Gvdaw39"
      },
      "source": [
        "`intersect` và `union` là hợp và giao sử dụng trên `List` và `Set` trả về 1 `Set` các phần tử."
      ]
    },
    {
      "cell_type": "code",
      "execution_count": null,
      "metadata": {
        "id": "U4-yJDSFbPfy"
      },
      "outputs": [],
      "source": [
        "fun main() {\n",
        "    val a = listOf(1, 2, 3, 1, 4)\n",
        "    val b = listOf(5, 1, 4, 1, 7)\n",
        "    println(a.intersect(b)) // [1, 4]\n",
        "    print(a.union(b)) // [1, 2, 3, 4, 5, 7]\n",
        "}"
      ]
    },
    {
      "cell_type": "code",
      "execution_count": null,
      "metadata": {
        "id": "EEFEOuiodP3V"
      },
      "outputs": [],
      "source": [
        "fun main() {\n",
        "    val a = listOf(1, 2, 3, 1, 4)\n",
        "    val b = setOf(5, 1, 4, 1, 7)\n",
        "    println(a.intersect(b)) // [1, 4]\n",
        "    print(a.union(b)) // [1, 2, 3, 4, 5, 7]\n",
        "}"
      ]
    },
    {
      "cell_type": "markdown",
      "metadata": {
        "id": "g60d9JgTfLj_"
      },
      "source": [
        "### 2.4.5 `filter`"
      ]
    },
    {
      "cell_type": "markdown",
      "metadata": {
        "id": "QuP5p1P7fPB_"
      },
      "source": [
        "Hàm `filter` trả về một `Collection` theo điều kiện đưa vào."
      ]
    },
    {
      "cell_type": "code",
      "execution_count": null,
      "metadata": {
        "id": "QwqRXCfQfv_y"
      },
      "outputs": [],
      "source": [
        "fun main() {\n",
        "    val a = mapOf( \"Sunday\"   to 1,\n",
        "                  \"Monday\"    to 2,\n",
        "                  \"Tuesday\"   to 3,\n",
        "                  \"Wednesday\" to 4,\n",
        "                  \"Thursday\"  to 5,\n",
        "                  \"Friday\"    to 6,\n",
        "                  \"Saturday\"  to 7,\n",
        "                  \"Sunday\"    to 8)\n",
        "    val b = a.filter{it.value > 4}\n",
        "    print(b) // {Sunday=8, Thursday=5, Friday=6, Saturday=7}\n",
        "}"
      ]
    },
    {
      "cell_type": "code",
      "execution_count": null,
      "metadata": {
        "id": "0UEEtHexgRiN"
      },
      "outputs": [],
      "source": [
        "fun main() {\n",
        "    val a = listOf(1, 2, 3, 4, 5, 6)\n",
        "    val b = a.filter{it % 2 == 1}\n",
        "    print(b) // [1, 3, 5]\n",
        "}"
      ]
    },
    {
      "cell_type": "markdown",
      "metadata": {
        "id": "a4o_us5jgxMj"
      },
      "source": [
        "### 2.4.6 `shuffled`"
      ]
    },
    {
      "cell_type": "markdown",
      "metadata": {
        "id": "s4jGUXcNiHkc"
      },
      "source": [
        "Hàm `shufled` sử dụng trên `List` và `Set` trả về 1 `Collection` được xoá trộn."
      ]
    },
    {
      "cell_type": "code",
      "execution_count": null,
      "metadata": {
        "id": "GoASsoeKiVic"
      },
      "outputs": [],
      "source": [
        "fun main() {\n",
        "    val a = listOf(1, 2, 3, 4, 5, 6)\n",
        "    val b = a.shuffled()\n",
        "    print(b) // [2, 3, 6, 1, 5, 4]\n",
        "}"
      ]
    },
    {
      "cell_type": "markdown",
      "metadata": {
        "id": "ZaHOA5af9Uh2"
      },
      "source": [
        "### 2.4.7 `map`"
      ]
    },
    {
      "cell_type": "markdown",
      "metadata": {
        "id": "CjXyUcSG9Uh2"
      },
      "source": [
        "Hàm `map` trả về một `List` chứa kết quả áp dụng hàm chuyển đổi đã cho cho từng phần tử trong danh sách gốc."
      ]
    },
    {
      "cell_type": "code",
      "execution_count": null,
      "metadata": {
        "id": "ztWCG4pI9Uh2"
      },
      "outputs": [],
      "source": [
        "fun main() {\n",
        "    val a = listOf(1, 2, 3, 4)\n",
        "    val b = a.map{it + 1}\n",
        "    print(b) // [2, 3, 4, 5]\n",
        "}"
      ]
    },
    {
      "cell_type": "code",
      "execution_count": null,
      "metadata": {
        "id": "xLSrC5XC9Uh2"
      },
      "outputs": [],
      "source": [
        "fun main() {\n",
        "    val a = listOf(\"4\", \"11\", \"26\", \"10\")\n",
        "    val b = a.map{it.length}\n",
        "    print(b) // [1, 2, 2, 2]\n",
        "}"
      ]
    },
    {
      "cell_type": "markdown",
      "metadata": {
        "id": "qQomFIPy9Uh2"
      },
      "source": [
        "### 2.4.8 `last`"
      ]
    },
    {
      "cell_type": "markdown",
      "metadata": {
        "id": "NRtyUE5I9Uh2"
      },
      "source": [
        "Hàm `last` trả về phần tử cuối cùng của `List`."
      ]
    },
    {
      "cell_type": "code",
      "execution_count": null,
      "metadata": {
        "id": "wbP8fovg9Uh3"
      },
      "outputs": [],
      "source": [
        "fun main() {\n",
        "    val a = listOf(\"26\", \"10\", \"4\", \"11\")\n",
        "    print(a.last()) // 11\n",
        "}"
      ]
    }
  ],
  "metadata": {
    "colab": {
      "collapsed_sections": [],
      "name": "Mobile1.ipynb",
      "provenance": [],
      "toc_visible": true
    },
    "kernelspec": {
      "display_name": "Python 3",
      "name": "python3"
    },
    "language_info": {
      "name": "python"
    }
  },
  "nbformat": 4,
  "nbformat_minor": 0
}
