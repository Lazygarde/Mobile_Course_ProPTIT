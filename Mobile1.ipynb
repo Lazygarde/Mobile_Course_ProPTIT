{
  "nbformat": 4,
  "nbformat_minor": 0,
  "metadata": {
    "colab": {
      "name": "Mobile1.ipynb",
      "provenance": [],
      "collapsed_sections": [],
      "toc_visible": true
    },
    "kernelspec": {
      "name": "python3",
      "display_name": "Python 3"
    },
    "language_info": {
      "name": "python"
    }
  },
  "cells": [
    {
      "cell_type": "markdown",
      "source": [
        "# 1. Syntax cơ bản Kotlin"
      ],
      "metadata": {
        "id": "KYz_LvzQ0X2m"
      }
    },
    {
      "cell_type": "markdown",
      "source": [
        "## 1.1 Kiểu dữ liệu"
      ],
      "metadata": {
        "id": "42QO0FEPDBzL"
      }
    },
    {
      "cell_type": "markdown",
      "source": [
        "* `Int`, `Long`: Kiểu số nguyên\n",
        "* `Float`, `Double`: Kiểu số thực\n",
        "* `Char`: Kiểu kí tự\n",
        "* `Boolean`: Kiểu đúng sai \n",
        "* `String`: Kiểu xâu kí tự\n",
        "* `IntRange`: Kiểu 1 khoảng số nguyên"
      ],
      "metadata": {
        "id": "jrTlljzJEKSy"
      }
    },
    {
      "cell_type": "code",
      "source": [
        "fun main() {\n",
        "    var a : Float = 9.5f\n",
        "    var b : Boolean = true\n",
        "    var c : String = \"Date\"\n",
        "    var d : IntRange = (1..2)\n",
        "}"
      ],
      "metadata": {
        "id": "sBy9Hz3yEHlV"
      },
      "execution_count": null,
      "outputs": []
    },
    {
      "cell_type": "markdown",
      "source": [
        "## 1.2 Biến"
      ],
      "metadata": {
        "id": "U7wo7DTf5Lpv"
      }
    },
    {
      "cell_type": "markdown",
      "source": [
        "Biến trong Kotlin được khai báo bằng 1 trong 2 từ khoá `val` và `var`"
      ],
      "metadata": {
        "id": "xpPYhtgL99Tl"
      }
    },
    {
      "cell_type": "markdown",
      "source": [
        " `val`:\n",
        "* Dùng để khai báo biến chỉ đọc và không thể thay đổi giá trị của biến này.\n",
        "* `val` khá giống với `const` trong `C++`, cả 2 đều sử dụng để khai báo biến không đổi. Nhưng đối với `val` thì không cần phải là 1 giá trị cố định sẵn trong code, tức là có thể định nghĩa trong Runtime. Còn đối với `const` thì phải là giá trị cố định sẵn trong code. Tóm lại `const` thuộc về Compile time còn `val` thuộc về Runtime "
      ],
      "metadata": {
        "id": "oOWo58CN6uyt"
      }
    },
    {
      "cell_type": "code",
      "source": [
        "fun main() {\n",
        "    val a = (1..6).random()\n",
        "    // const MOD = 1000000007\n",
        "}"
      ],
      "metadata": {
        "id": "abjUZ1Su9Hwp"
      },
      "execution_count": null,
      "outputs": []
    },
    {
      "cell_type": "markdown",
      "source": [
        "`var`: Dùng để khai báo biến có thể gán lại giá trị, hoạt động bình thường"
      ],
      "metadata": {
        "id": "ERH0_8j4-Dxs"
      }
    },
    {
      "cell_type": "code",
      "source": [
        "fun main() {\n",
        "\t\tvar a = 26\n",
        "\t\tvar b = 10\n",
        "\t\tb = a + b\n",
        "\t\tprint(b) // 36\n",
        "}"
      ],
      "metadata": {
        "id": "HCeaslO4-4ks"
      },
      "execution_count": null,
      "outputs": []
    },
    {
      "cell_type": "markdown",
      "source": [
        "Khi khai báo biến, cần gán giá trị của biến ngay. Nếu không thì phải định nghĩa kiểu dữ liệu cho biến"
      ],
      "metadata": {
        "id": "_SDPKh4V_MTr"
      }
    },
    {
      "cell_type": "code",
      "source": [
        "fun main() {\n",
        "    val a = 4\n",
        "    val b : Int\n",
        "    var c = 11\n",
        "    var d : Int\n",
        "}"
      ],
      "metadata": {
        "id": "XG_BtOV5A8bG"
      },
      "execution_count": null,
      "outputs": []
    },
    {
      "cell_type": "markdown",
      "source": [
        "## 1.3 Hàm"
      ],
      "metadata": {
        "id": "9U1z1Cch5zEE"
      }
    },
    {
      "cell_type": "markdown",
      "source": [
        "Hàm trong Kotlin được khai báo với cú pháp:\n",
        "\n",
        "```\n",
        "fun <tên hàm> (<các đố số truyền vào>) : <kiểu dữ liệu trả về> {\n",
        "    //code\n",
        "}\n",
        "```\n",
        "\n"
      ],
      "metadata": {
        "id": "Xz3K2G2IHZie"
      }
    },
    {
      "cell_type": "code",
      "source": [
        "fun main() {\n",
        "    print(\"Hello world\")\n",
        "}"
      ],
      "metadata": {
        "id": "tYQFpvq8IWvW"
      },
      "execution_count": null,
      "outputs": []
    },
    {
      "cell_type": "code",
      "source": [
        "fun sum(a : Int, b : Int) : Int {\n",
        "    return a + b\n",
        "} \n",
        "fun main() {\n",
        "    var a = 4\n",
        "    var b = 26\n",
        "    print(sum(a, b))\n",
        "}"
      ],
      "metadata": {
        "id": "u9pklALVIdMq"
      },
      "execution_count": null,
      "outputs": []
    },
    {
      "cell_type": "code",
      "source": [
        "fun sum (a: Int, b: Int) : Int = a + b \n",
        "fun main() {\n",
        "    var a = 4\n",
        "    var b = 26\n",
        "    print(sum(a, b))\n",
        "}"
      ],
      "metadata": {
        "id": "UIPNbH8kKBs3"
      },
      "execution_count": null,
      "outputs": []
    },
    {
      "cell_type": "markdown",
      "source": [
        "## 1.4 Câu lệnh rẽ nhánh"
      ],
      "metadata": {
        "id": "rZq3wXyeQdRE"
      }
    },
    {
      "cell_type": "markdown",
      "source": [
        "### 1.4.1 `if` `else`"
      ],
      "metadata": {
        "id": "T5dzTvtmSc3o"
      }
    },
    {
      "cell_type": "markdown",
      "source": [
        "* Câu lệnh rẽ nhánh `if` `else` được sử dụng tương tự như trong `C++` và `Java`"
      ],
      "metadata": {
        "id": "wYvCQbrvRCpL"
      }
    },
    {
      "cell_type": "code",
      "source": [
        "fun main() {\n",
        "    var a : Int = 26\n",
        "    if (a == 0) print(\"So 0\")\n",
        "    else if (a > 0) print(\"So nguyen duong\")\n",
        "    else print(\"So nguyen am\")\n",
        "}"
      ],
      "metadata": {
        "id": "xb3gSchyRTER"
      },
      "execution_count": null,
      "outputs": []
    },
    {
      "cell_type": "markdown",
      "source": [
        "* `if` `else` trong `Kotlin` còn được sử dụng để trả về một giá trị như toán tử ba ngôi trong `C++`"
      ],
      "metadata": {
        "id": "Cn9-3EmxRoRP"
      }
    },
    {
      "cell_type": "code",
      "source": [
        "fun main() {\n",
        "    var a = 10\n",
        "    var b = 11\n",
        "    var Bigger = if(a > b) a else b\n",
        "    print(Bigger) // 11\n",
        "}"
      ],
      "metadata": {
        "id": "AYaVRK7eR23O"
      },
      "execution_count": null,
      "outputs": []
    },
    {
      "cell_type": "markdown",
      "source": [
        "### 1.4.2 `when`"
      ],
      "metadata": {
        "id": "25rwpffySly1"
      }
    },
    {
      "cell_type": "markdown",
      "source": [
        "* `when` trong `Kotlin` được sử dụng tương tự như `switch` `case` trong `C++`."
      ],
      "metadata": {
        "id": "h1BbLnv3SoOq"
      }
    },
    {
      "cell_type": "code",
      "source": [
        "fun main() {\n",
        "    var SoCanh = 4\n",
        "    when (SoCanh) {\n",
        "        3 -> print(\"Tam giac\")\n",
        "        4 -> print(\"Tu giac\")\n",
        "        5 -> print(\"Ngu giac\")\n",
        "        else -> print(\"So qua lon\")\n",
        "    }\n",
        "    // Tu giac\n",
        "}"
      ],
      "metadata": {
        "id": "DI9eOy5gUbcu"
      },
      "execution_count": null,
      "outputs": []
    },
    {
      "cell_type": "markdown",
      "source": [
        "* `when` cũng có thể sử dụng để trả về giá trị. Nhưng khi ấy trong biểu thức `when` cần có `else` để tránh gán `null` cho biến"
      ],
      "metadata": {
        "id": "sldH1JnGUr-c"
      }
    },
    {
      "cell_type": "code",
      "source": [
        "fun main() {\n",
        "    var a = (1..6).random()\n",
        "    var b = when (a) {\n",
        "        1 -> 1\n",
        "        2 -> 2\n",
        "        3 -> 3\n",
        "        4 -> 4\n",
        "        5 -> 5\n",
        "        else -> 6\n",
        "    }\n",
        "    print(b)\n",
        "}"
      ],
      "metadata": {
        "id": "_poWh2fqUwDN"
      },
      "execution_count": null,
      "outputs": []
    },
    {
      "cell_type": "markdown",
      "source": [
        "## 1.5 Vòng lặp"
      ],
      "metadata": {
        "id": "eVW-eZrzWoTG"
      }
    },
    {
      "cell_type": "markdown",
      "source": [
        "### 1.5.1 Vòng lặp `repeat`"
      ],
      "metadata": {
        "id": "109mSkT7PmNT"
      }
    },
    {
      "cell_type": "markdown",
      "source": [
        "* Vòng lặp `repeat` sẽ thực hiện khối lệnh với số lần là số ta truyền vào.\n",
        "\n",
        "* Cú pháp:\n",
        "\n",
        "\n",
        "```\n",
        "repeat (<so lan lap>) {\n",
        "    // code\n",
        "}\n",
        "```\n",
        "\n"
      ],
      "metadata": {
        "id": "SzjKdXvfPrZR"
      }
    },
    {
      "cell_type": "code",
      "source": [
        "fun main() {\n",
        "    var n = 4\n",
        "    repeat (n) {\n",
        "        repeat (n) {\n",
        "            print(\"*\")\n",
        "        }\n",
        "        println()\n",
        "    }\n",
        "}"
      ],
      "metadata": {
        "id": "EKbCFd6yQozh"
      },
      "execution_count": null,
      "outputs": []
    },
    {
      "cell_type": "markdown",
      "source": [
        "* `repeat` có thể truyền vào biến lặp như sau."
      ],
      "metadata": {
        "id": "BDuzrA-GRvYu"
      }
    },
    {
      "cell_type": "code",
      "source": [
        "fun main() {\n",
        "    var n = 4\n",
        "    repeat (n) { i->\n",
        "        repeat (n) { j->\n",
        "            if (i == 0 || i == n - 1 || j == 0 || j == n - 1) {\n",
        "                print(\"*\")\n",
        "            }\n",
        "            else {\n",
        "                print(\" \")\n",
        "            }\n",
        "        }\n",
        "        println()\n",
        "    }\n",
        "}"
      ],
      "metadata": {
        "id": "4bc0GdJ7SJYs"
      },
      "execution_count": null,
      "outputs": []
    },
    {
      "cell_type": "markdown",
      "source": [
        "### 1.5.2 Vòng lặp `while`"
      ],
      "metadata": {
        "id": "jCsS0Vk5SjE0"
      }
    },
    {
      "cell_type": "markdown",
      "source": [
        "Vòng lặp `while` được sử dụng giống như `C++` và `Java`."
      ],
      "metadata": {
        "id": "kHkVBlIUSmlZ"
      }
    },
    {
      "cell_type": "code",
      "source": [
        "fun main() {\n",
        "    var a = 26\n",
        "    var ans = 0\n",
        "    while (a > 0) {\n",
        "        ans = ans * 10 + a % 10\n",
        "        a /= 10\n",
        "    }\n",
        "    print(ans)\n",
        "}"
      ],
      "metadata": {
        "id": "Gi_qUUnJVgti"
      },
      "execution_count": null,
      "outputs": []
    },
    {
      "cell_type": "markdown",
      "source": [
        "### 1.5.3 Vòng lặp `for`"
      ],
      "metadata": {
        "id": "I3849itSVqg4"
      }
    },
    {
      "cell_type": "markdown",
      "source": [
        "* Vòng lặp `for` được sử dụng để lặp lại các mục trong một danh sách."
      ],
      "metadata": {
        "id": "NfVC8H0lVuYt"
      }
    },
    {
      "cell_type": "code",
      "source": [
        "fun main() {\n",
        "    val a = listOf(1, 2, 3)\n",
        "    for (i in a) {\n",
        "        println(i)\n",
        "    }\n",
        "}"
      ],
      "metadata": {
        "id": "FsqM7qaKY9MD"
      },
      "execution_count": null,
      "outputs": []
    },
    {
      "cell_type": "markdown",
      "source": [
        "* Vòng lặp for còn được sử dụng với bước nhảy `step`"
      ],
      "metadata": {
        "id": "NtTucHNAZcvH"
      }
    },
    {
      "cell_type": "code",
      "source": [
        "fun main() {\n",
        "    for (i in 0..10 step 2) {\n",
        "        println(i)\n",
        "    }\n",
        "}"
      ],
      "metadata": {
        "id": "H_VnjTvoZp_3"
      },
      "execution_count": null,
      "outputs": []
    },
    {
      "cell_type": "code",
      "source": [
        "fun main() {\n",
        "    val a = listOf(1, 2, 3, 4, 5, 6)\n",
        "    for (i in a.indices step 2) {\n",
        "        println(a[i])\n",
        "    }\n",
        "}"
      ],
      "metadata": {
        "id": "Vsy184XDaFiF"
      },
      "execution_count": null,
      "outputs": []
    },
    {
      "cell_type": "markdown",
      "source": [
        "* Vòng lặp `for` có thể sử dụng `downTo` để duyệt trên 1 đoạn nhưng không có `upTo`."
      ],
      "metadata": {
        "id": "xcoBSK1yaQKG"
      }
    },
    {
      "cell_type": "code",
      "source": [
        "fun main() {\n",
        "    for (i in 10 downTo 0 step 2) {\n",
        "        println(i)\n",
        "    }\n",
        "}"
      ],
      "metadata": {
        "id": "As8tLhz1Znay"
      },
      "execution_count": null,
      "outputs": []
    },
    {
      "cell_type": "markdown",
      "source": [
        "### 1.5.4 `break` và `continue`"
      ],
      "metadata": {
        "id": "FXCfKGx0anyr"
      }
    },
    {
      "cell_type": "markdown",
      "source": [
        "* `break` và `continue` được sử dụng giống như trong C++, Java."
      ],
      "metadata": {
        "id": "bKiVkOLGasr4"
      }
    },
    {
      "cell_type": "code",
      "source": [
        "fun main() {\n",
        "    var ok = true\n",
        "    var n = 2610\n",
        "    for (i in 2..n) {\n",
        "        if (n % i == 0){\n",
        "            ok = false\n",
        "            break\n",
        "        }\n",
        "    }\n",
        "    print(ok)\n",
        "}"
      ],
      "metadata": {
        "id": "FDYLeorscosN"
      },
      "execution_count": null,
      "outputs": []
    },
    {
      "cell_type": "markdown",
      "source": [
        "* Có thể chỉ định để `break` hoặc `continue` vòng lặp nào bằng các gán nhãn các vòng lặp."
      ],
      "metadata": {
        "id": "bL0JcmsUcpCr"
      }
    },
    {
      "cell_type": "code",
      "source": [
        "fun main() {\n",
        "    var n = 7\n",
        "    val a = listOf(1, 2, 3, 4, 5)\n",
        "    val b = listOf(2, 3, 7, 10)\n",
        "    loop1@ for (i in a) {\n",
        "        loop2@ for (j in b) {\n",
        "            if (i + j == n) {\n",
        "                print(\"${i} ${j}\")\n",
        "                break@loop1\n",
        "            }\n",
        "        }\n",
        "    }\n",
        "}"
      ],
      "metadata": {
        "id": "AM8jlXZwct3I"
      },
      "execution_count": null,
      "outputs": []
    },
    {
      "cell_type": "markdown",
      "source": [
        "# 2. Collections"
      ],
      "metadata": {
        "id": "5nQ6c1va01XY"
      }
    },
    {
      "cell_type": "markdown",
      "source": [
        "* `collection` là tập hợp các đối tượng có cùng kiểu dữ liệu.\n",
        "\n",
        "* Các `collection` trong `Kotlin` bao gồm: `List`, `Set`, `Map`.\n",
        "\n",
        "* Các collection trong Kotlin được chia làm 2 loại: `mutable` (có thể thay đổi) và `immutable` (không thể thay đổi).\n"
      ],
      "metadata": {
        "id": "SNP3Bdsuf9QI"
      }
    },
    {
      "cell_type": "markdown",
      "source": [
        "## 2.1 `List` trong `Kotlin`"
      ],
      "metadata": {
        "id": "PqcadA8vhzaZ"
      }
    },
    {
      "cell_type": "markdown",
      "source": [
        "### 2.1.1 `List`"
      ],
      "metadata": {
        "id": "iQ_c1nFhiQgx"
      }
    },
    {
      "cell_type": "markdown",
      "source": [
        "* `List` (`immutable`) được khai báo như sau:"
      ],
      "metadata": {
        "id": "7Sk5Qv8_iTgS"
      }
    },
    {
      "cell_type": "code",
      "source": [
        "fun main() {\n",
        "    val a = listOf(1, 2, 3, 4, 5)\n",
        "}"
      ],
      "metadata": {
        "id": "WZzzdYBgjt1W"
      },
      "execution_count": null,
      "outputs": []
    },
    {
      "cell_type": "markdown",
      "source": [
        "* Vì `List` là `immutable` nên không thể thêm, xoá hoặc sửa các phần tử trong `List`. Nhưng nếu khai báo `List` là `var` thì có thể gán lại `List` mới."
      ],
      "metadata": {
        "id": "CQoRHmizh6vN"
      }
    },
    {
      "cell_type": "code",
      "source": [
        "fun main() {\n",
        "    var a = listOf(1, 2, 3, 4, 5)\n",
        "    a = listOf(1, 2, 3)\n",
        "}"
      ],
      "metadata": {
        "id": "vIBTxTD9kTYP"
      },
      "execution_count": null,
      "outputs": []
    },
    {
      "cell_type": "markdown",
      "source": [
        "### 2.1.2 `mutableList`"
      ],
      "metadata": {
        "id": "ECEKgajBkdpK"
      }
    },
    {
      "cell_type": "markdown",
      "source": [
        "* `mutableList` có thể thêm, xoá hoặc sửa các phần tử trong nó."
      ],
      "metadata": {
        "id": "iDycDavWkl8Z"
      }
    },
    {
      "cell_type": "code",
      "source": [
        "fun main() {\n",
        "    val a = mutableListOf(0, 1, 3, 0, 5)\n",
        "    a.add(6)          // [0, 1, 3, 0, 5, 6]\n",
        "    a[1] = 2          // [0, 2, 3, 0, 5, 6]\n",
        "    a.remove(0)       // [2, 3, 0, 5, 6]\n",
        "    a.removeAt(0)     // [3, 0, 5, 6]\n",
        "}"
      ],
      "metadata": {
        "id": "N8aol7lak88l"
      },
      "execution_count": null,
      "outputs": []
    },
    {
      "cell_type": "markdown",
      "source": [
        "* Khi khai báo `mutableList` là `val` thì vẫn có thể chỉnh sửa các phần tử trong nó. Nhưng không thể gán lại nó bằng 1 `mutableList` khác. Muốn gán lại thì phải khai báo là `var`."
      ],
      "metadata": {
        "id": "GxW6DOG1l9Zp"
      }
    },
    {
      "cell_type": "code",
      "source": [
        "fun main() {\n",
        "    var a = mutableListOf(0, 1, 3, 0, 5)\n",
        "    a.add(6)          // [0, 1, 3, 0, 5, 6]\n",
        "    a[1] = 2          // [0, 2, 3, 0, 5, 6]\n",
        "    a.remove(0)       // [2, 3, 0, 5, 6]\n",
        "    a.removeAt(0)     // [3, 0, 5, 6]\n",
        "    a = mutableListOf(1, 2, 3)\n",
        "}"
      ],
      "metadata": {
        "colab": {
          "base_uri": "https://localhost:8080/",
          "height": 131
        },
        "id": "MLfzEAGImSXv",
        "outputId": "471a5d3f-30d2-4133-da09-fb892711024a"
      },
      "execution_count": 1,
      "outputs": [
        {
          "output_type": "error",
          "ename": "SyntaxError",
          "evalue": "ignored",
          "traceback": [
            "\u001b[0;36m  File \u001b[0;32m\"<ipython-input-1-285a63c81a55>\"\u001b[0;36m, line \u001b[0;32m1\u001b[0m\n\u001b[0;31m    fun main() {\u001b[0m\n\u001b[0m           ^\u001b[0m\n\u001b[0;31mSyntaxError\u001b[0m\u001b[0;31m:\u001b[0m invalid syntax\n"
          ]
        }
      ]
    },
    {
      "cell_type": "markdown",
      "source": [
        "## 2.2 `Set` trong `Kotlin`"
      ],
      "metadata": {
        "id": "iBZoKrnTmi07"
      }
    },
    {
      "cell_type": "markdown",
      "source": [
        "### 2.2.1 `Set`"
      ],
      "metadata": {
        "id": "JhTSK6GVmp_J"
      }
    },
    {
      "cell_type": "markdown",
      "source": [
        "* `Set` chỉ lưu lại các phần tử khác nhau theo thứ tự được thêm vào `Set`."
      ],
      "metadata": {
        "id": "LMy-UMcynQlP"
      }
    },
    {
      "cell_type": "code",
      "source": [
        "fun main() {\n",
        "    val a = setOf(1, 3, 2, 3) // [1, 3, 2]\n",
        "}"
      ],
      "metadata": {
        "id": "0jZAVGs1nZeF"
      },
      "execution_count": null,
      "outputs": []
    },
    {
      "cell_type": "markdown",
      "source": [
        "* Tương tự như `List`, `Set` không thể chỉnh sửa các phần tử và muốn gán lại cho giá trị thì khai báo `Set` dưới dạng `var`."
      ],
      "metadata": {
        "id": "5CCjDCjrnb58"
      }
    },
    {
      "cell_type": "markdown",
      "source": [
        "### 2.2.2 `mutableSet`"
      ],
      "metadata": {
        "id": "QbDBaoofntTs"
      }
    },
    {
      "cell_type": "markdown",
      "source": [
        "* `mutableSet` có thể chỉnh sửa các giá trị trong nó. Khi add 1 giá trị mới thì nó sẽ kiểm tra xem đã xuất hiện phần tử đó chưa, nếu chưa thì phần tử đó sẽ được thêm vào `mutableSet`."
      ],
      "metadata": {
        "id": "tmeZKTQznzeF"
      }
    },
    {
      "cell_type": "code",
      "source": [
        "fun main() {\n",
        "    val a = mutableSetOf(1, 3, 2, 3) // [1, 3, 2]\n",
        "    a.add(1)                         // [1, 3, 2]\n",
        "    a.add(4)                         // [1, 3, 2, 4]\n",
        "    a.remove(1)                      // [3, 2, 4]\n",
        "}"
      ],
      "metadata": {
        "id": "2SkqDQx8ofCv"
      },
      "execution_count": null,
      "outputs": []
    },
    {
      "cell_type": "markdown",
      "source": [
        "* `mutableSet` không sử dụng `index` nên không có `removeAt()`, thay vào đó là `remove()` trực tiếp giá trị muốn xoá."
      ],
      "metadata": {
        "id": "SFXf4OQqog47"
      }
    },
    {
      "cell_type": "markdown",
      "source": [
        "## 2.3 `Map` trong `Kotlin`"
      ],
      "metadata": {
        "id": "U3I0R7Peo2up"
      }
    },
    {
      "cell_type": "markdown",
      "source": [
        "### 2.3.1 `Map`"
      ],
      "metadata": {
        "id": "Num4gsCrpDHb"
      }
    },
    {
      "cell_type": "markdown",
      "source": [
        "* `Map` sẽ lưu trữ các phần tử dưới dạng `keys` và `values` theo thứ tự keys khác nhau được đưa vào `Map`. Nếu có nhiều `keys` giống nhau thì sẽ nhận giá trị của `values` cuối cùng."
      ],
      "metadata": {
        "id": "WzDskVvppGmG"
      }
    },
    {
      "cell_type": "code",
      "source": [
        "fun main() {\n",
        "    val a = mapOf( \"Sunday\"   to 1,\n",
        "                  \"Monday\"    to 2,\n",
        "                  \"Tuesday\"   to 3,\n",
        "                  \"Wednesday\" to 4,\n",
        "                  \"Thursday\"  to 5,\n",
        "                  \"Friday\"    to 6,\n",
        "                  \"Saturday\"  to 7,\n",
        "                  \"Sunday\"    to 8)\n",
        "    // {Sunday=8, Monday=2, Tuesday=3, Wednesday=4, Thursday=5, Friday=6, Saturday=7}\n",
        "}"
      ],
      "metadata": {
        "id": "qiA6Zjtvr3Ng"
      },
      "execution_count": null,
      "outputs": []
    },
    {
      "cell_type": "markdown",
      "source": [
        "* Nếu gọi riêng `keys` hoặc `values` của `Map` thì sẽ trả về một `List`."
      ],
      "metadata": {
        "id": "VT8PbLINtW50"
      }
    },
    {
      "cell_type": "code",
      "source": [
        "fun main() {\n",
        "    val a = mapOf( \"Sunday\"   to 1,\n",
        "                  \"Monday\"    to 2,\n",
        "                  \"Tuesday\"   to 3,\n",
        "                  \"Wednesday\" to 4,\n",
        "                  \"Thursday\"  to 5,\n",
        "                  \"Friday\"    to 6,\n",
        "                  \"Saturday\"  to 7,\n",
        "                  \"Sunday\"    to 8)\n",
        "   \tprintln(a.keys)   // [Sunday, Monday, Tuesday, Wednesday, Thursday, Friday, Saturday]\n",
        "    println(a.values) // [8, 2, 3, 4, 5, 6, 7]\n",
        "}"
      ],
      "metadata": {
        "id": "zoQiKZO2tXG8"
      },
      "execution_count": null,
      "outputs": []
    },
    {
      "cell_type": "markdown",
      "source": [
        "### 2.3.2 `mutableMap`"
      ],
      "metadata": {
        "id": "I9FQUi5rtmH4"
      }
    },
    {
      "cell_type": "markdown",
      "source": [
        "* `mutableMap` có thể chỉnh sửa các phần tử trong nó. Dùng `put()` để thêm các phần tử mới, `putAll()` để thêm tất cả phần tử của 1 `Map` hoặc 1 `mutableMap`."
      ],
      "metadata": {
        "id": "g7wjWIMttqJ8"
      }
    },
    {
      "cell_type": "code",
      "source": [
        "fun main() {\n",
        "    val a = mutableMapOf(1 to 2, 3 to 4)\n",
        "    a.put(5, 6)         // {1=2, 3=4, 5=6}\n",
        "    val b = mapOf(7 to 8, 9 to 1)\n",
        "    a.putAll(b)         // {1=2, 3=4, 5=6, 7=8, 9=1}\n",
        "    a.put(9,10)         // {1=2, 3=4, 5=6, 7=8, 9=10}\n",
        "}"
      ],
      "metadata": {
        "id": "WSZZ8J9Vwkum"
      },
      "execution_count": null,
      "outputs": []
    },
    {
      "cell_type": "markdown",
      "source": [
        "* Có thể sử dụng `remove(<key>)` hoặc `keys.remove(<key>)` để loại bỏ 1 `keys` nào đó khỏi `mutableMap`. Còn sử dụng `values.remove(<value>)` sẽ loại bỏ phần tử đầu tiên có `values` là `value`."
      ],
      "metadata": {
        "id": "nyao4hcbxyfR"
      }
    },
    {
      "cell_type": "code",
      "source": [
        "fun main() {\n",
        "    val a = mutableMapOf(1 to 2, 3 to 4, 5 to 6, 1 to 4) // {1=4, 3=4, 5=6}\n",
        "    a.remove(5)                                          // {1=4, 3=4}\n",
        "    a.values.remove(4)                                   // {3=4}\n",
        "}"
      ],
      "metadata": {
        "id": "6bZqN6ryyk_u"
      },
      "execution_count": null,
      "outputs": []
    },
    {
      "cell_type": "markdown",
      "source": [
        "## 2.4 Một số hàm với `Collection`"
      ],
      "metadata": {
        "id": "_vJ9XZqy6asp"
      }
    },
    {
      "cell_type": "markdown",
      "source": [
        "### 2.4.1 `sort`"
      ],
      "metadata": {
        "id": "EZgqwbpfMcgO"
      }
    },
    {
      "cell_type": "markdown",
      "source": [
        "`sort` dùng để sắp xếp các phần tử trong `collection` áp dụng với cả `mutable` và `immutable`"
      ],
      "metadata": {
        "id": "oHn07ZYbMgpN"
      }
    },
    {
      "cell_type": "markdown",
      "source": [
        "* Đối với `List` và `Set` ta sử dụng `sorted()` để trả về."
      ],
      "metadata": {
        "id": "plh6ZyrgNcXH"
      }
    },
    {
      "cell_type": "code",
      "source": [
        "fun main() {\n",
        "    val a = listOf(4, 3, 1, 2, 3, 4)\n",
        "    val b = a.sorted() // [1, 2, 3, 3, 4, 4]\n",
        "}"
      ],
      "metadata": {
        "id": "yW3NKpyDNkz0"
      },
      "execution_count": null,
      "outputs": []
    },
    {
      "cell_type": "code",
      "source": [
        "fun main() {\n",
        "    val a = setOf(4, 3, 1, 2, 3, 4)\n",
        "    val b = a.sorted() // [1, 2, 3, 4]\n",
        "}"
      ],
      "metadata": {
        "id": "_zfMY_awNmiB"
      },
      "execution_count": null,
      "outputs": []
    },
    {
      "cell_type": "markdown",
      "source": [
        "* Đối với `Map` ta sử dụng `toSortedMap()` để trả về."
      ],
      "metadata": {
        "id": "JcqhzHohN9vS"
      }
    },
    {
      "cell_type": "code",
      "source": [
        "fun main() {\n",
        "    val a = mapOf(3 to 4, 1 to 2, 5 to 6)\n",
        "    val b = a.toSortedMap() // {1=2, 3=4, 5=6}\n",
        "}"
      ],
      "metadata": {
        "id": "D6patWFrOXAY"
      },
      "execution_count": null,
      "outputs": []
    },
    {
      "cell_type": "markdown",
      "source": [
        "* Ta có thể sử dụng `sorted` với `compare` tự định nghĩa, khi ấy biến `compare` mặc định là `it`."
      ],
      "metadata": {
        "id": "alAa8iKhO97R"
      }
    },
    {
      "cell_type": "code",
      "source": [
        "fun main() {\n",
        "    val a = listOf(1, 2, 3, 4)\n",
        "    val b = a.sortedWith(compareBy({-it})) // [4, 3, 2, 1]\n",
        "}"
      ],
      "metadata": {
        "id": "13luY4HGQG4i"
      },
      "execution_count": null,
      "outputs": []
    },
    {
      "cell_type": "markdown",
      "source": [
        "* `Comparator` tự định nghĩa với `when`."
      ],
      "metadata": {
        "id": "EenFSg4xQKmI"
      }
    },
    {
      "cell_type": "code",
      "source": [
        "fun main() {\n",
        "    val a = listOf(\"26\", \"10\", \"11\", \"4\")\n",
        "    val b = a.sortedWith(Comparator <String> {s1, s2 ->\n",
        "        when{\n",
        "            s1.length > s2.length -> 1\n",
        "            s1.length == s2.length && s1 > s2 -> 1\n",
        "            else -> -1\n",
        "        }\n",
        "    })\n",
        "    // [4, 10, 11, 26]\n",
        "}"
      ],
      "metadata": {
        "id": "hUNCIs_gUi92"
      },
      "execution_count": null,
      "outputs": []
    },
    {
      "cell_type": "markdown",
      "source": [
        "* `sortedWith()` với `compare` tự định nghĩa đối với `Map` phải chuyển `Map` về `List` trước rồi sau khi `sort` sẽ chuyển lại về `Map`."
      ],
      "metadata": {
        "id": "K-LOyHQcU8P9"
      }
    },
    {
      "cell_type": "code",
      "source": [
        "fun main() {\n",
        "    val a = mapOf(1 to 2, 3 to 2, 5 to 1)\n",
        "    val b = a.toList().sortedWith(compareBy({it.second},{it.first})).toMap()\n",
        "    // {5=1, 1=2, 3=2}\n",
        "}"
      ],
      "metadata": {
        "id": "DEmc-guDWhIU"
      },
      "execution_count": null,
      "outputs": []
    },
    {
      "cell_type": "markdown",
      "source": [
        "### 2.4.2 `forEach`"
      ],
      "metadata": {
        "id": "DRGawwrPWyXX"
      }
    },
    {
      "cell_type": "markdown",
      "source": [
        "Ta có thể duyệt qua các `Collection` bằng `forEach` với biến lặp mặc định là `it`."
      ],
      "metadata": {
        "id": "TqelrPuuW5Ay"
      }
    },
    {
      "cell_type": "code",
      "source": [
        "fun main() {\n",
        "    val a = listOf(1, 2, 3, 4)\n",
        "    a.forEach{\n",
        "        println(it)\n",
        "    }\n",
        "}"
      ],
      "metadata": {
        "id": "XCKCd4VxXgCM"
      },
      "execution_count": null,
      "outputs": []
    },
    {
      "cell_type": "markdown",
      "source": [
        ""
      ],
      "metadata": {
        "id": "QNxtqM3LXx-c"
      }
    },
    {
      "cell_type": "markdown",
      "source": [
        "### 2.4.3 `random`"
      ],
      "metadata": {
        "id": "3Eu39glJX5IF"
      }
    },
    {
      "cell_type": "markdown",
      "source": [
        "* Hàm `random()` trả về phần tử bất kì trong `Collection`."
      ],
      "metadata": {
        "id": "EIg_o-fcX8hH"
      }
    },
    {
      "cell_type": "code",
      "source": [
        "fun main() {\n",
        "    val a = listOf(1, 2, 3, 4)\n",
        "    print(a.random())\n",
        "}"
      ],
      "metadata": {
        "id": "05NNb1PQYEHS"
      },
      "execution_count": null,
      "outputs": []
    },
    {
      "cell_type": "markdown",
      "source": [
        "* Đối với `Map`, ta phải chuyển về `List` trước khi `random`."
      ],
      "metadata": {
        "id": "hZR9j_gsYOIK"
      }
    },
    {
      "cell_type": "code",
      "source": [
        "fun main() {\n",
        "    val a = mapOf(1 to 2, 3 to 4, 5 to 6)\n",
        "    print(a.toList().random())\n",
        "}"
      ],
      "metadata": {
        "id": "CDT-k10EYUYX"
      },
      "execution_count": null,
      "outputs": []
    }
  ]
}